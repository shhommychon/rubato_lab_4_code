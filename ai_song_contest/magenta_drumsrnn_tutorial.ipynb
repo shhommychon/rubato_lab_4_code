{
 "cells": [
  {
   "cell_type": "markdown",
   "metadata": {
    "id": "4ijoDsq-r3Ey"
   },
   "source": [
    "# [Hands-On Music Generation with Magenta](https://github.com/PacktPublishing/hands-on-music-generation-with-magenta/tree/magenta-v2.0.1)"
   ]
  },
  {
   "cell_type": "markdown",
   "metadata": {
    "id": "lmW8rrMsr29A"
   },
   "source": [
    "[![Open In Colab](https://colab.research.google.com/assets/colab-badge.svg)](https://colab.research.google.com/github/PacktPublishing/hands-on-music-generation-with-magenta/blob/magenta-v2.0.1/Chapter02/notebook.ipynb)"
   ]
  },
  {
   "cell_type": "markdown",
   "metadata": {
    "id": "RgsjZNydrrBn"
   },
   "source": [
    "## [Chapter 2 - Generating drum sequences with DrumsRNN](https://github.com/PacktPublishing/hands-on-music-generation-with-magenta/tree/magenta-v2.0.1/Chapter02)"
   ]
  },
  {
   "cell_type": "markdown",
   "metadata": {
    "id": "24jsZSQRrrBs"
   },
   "source": [
    "This example shows a basic Drums RNN generation with a hard coded primer."
   ]
  },
  {
   "cell_type": "markdown",
   "metadata": {
    "id": "nbiBxGYZrrBs"
   },
   "source": [
    "1. Let's start by downloading the bundle:"
   ]
  },
  {
   "cell_type": "code",
   "execution_count": null,
   "metadata": {
    "id": "NmCysF6OrrBt",
    "outputId": "f27721e5-e0c8-4b98-d85f-3fc369e2c754"
   },
   "outputs": [
    {
     "name": "stderr",
     "output_type": "stream",
     "text": []
    }
   ],
   "source": [
    "import os\n",
    "\n",
    "# There is a lot of useful tools in the magenta.music package,\n",
    "# importing it as \"mm\" is pretty common in Magenta's code\n",
    "import magenta.music as mm\n",
    "from magenta.models.shared import sequence_generator_bundle\n",
    "\n",
    "mm.notebook_utils.download_bundle(\"drum_kit_rnn.mag\", \"bundles\")\n",
    "bundle = sequence_generator_bundle.read_bundle_file(os.path.join(\"bundles\", \"drum_kit_rnn.mag\"))"
   ]
  },
  {
   "cell_type": "markdown",
   "metadata": {
    "id": "y9NNrJCtrrBv"
   },
   "source": [
    "2. We then use the drums generator to initialize the generator class with the \"drum_kit\" configuration:"
   ]
  },
  {
   "cell_type": "code",
   "execution_count": null,
   "metadata": {
    "id": "R66UbgaKrrBv",
    "outputId": "66e9035c-33d8-4904-dbf9-412465916651"
   },
   "outputs": [
    {
     "name": "stderr",
     "output_type": "stream",
     "text": []
    }
   ],
   "source": [
    "# Notice each model has its own package and generator\n",
    "from magenta.models.drums_rnn import drums_rnn_sequence_generator\n",
    "\n",
    "generator_map = drums_rnn_sequence_generator.get_generator_map()\n",
    "generator = generator_map[\"drum_kit\"](checkpoint=None, bundle=bundle)\n",
    "generator.initialize()"
   ]
  },
  {
   "cell_type": "markdown",
   "metadata": {
    "id": "cGI7UaDirrBw"
   },
   "source": [
    "3. This time, we'll define the number of bar we want to generate, instead of steps. By declaring the tempo, we can also calculate the length of a bar in seconds. We need this because the generation start and end is given in seconds to Magenta."
   ]
  },
  {
   "cell_type": "code",
   "execution_count": null,
   "metadata": {
    "id": "BC1j2F7orrBx",
    "outputId": "7ae3ddf5-f4ff-4ffa-9219-298ef7af382d"
   },
   "outputs": [
    {
     "name": "stdout",
     "output_type": "stream",
     "text": [
      "Seconds per step: 0.125\n",
      "Seconds per bar: 2.0\n"
     ]
    }
   ],
   "source": [
    "from magenta.music import constants\n",
    "\n",
    "# We will generate 3 bars, so with a\n",
    "# 1 bar primer we'll have 4 bars total\n",
    "num_bars = 3\n",
    "qpm = 120\n",
    "\n",
    "# The steps per quarter for this generator\n",
    "# is 4 steps per quarter\n",
    "seconds_per_step = 60.0 / qpm / generator.steps_per_quarter\n",
    "\n",
    "# We are using a default 16 steps per bar, which is\n",
    "# 4/4 music sampled at 4 steps per quarter note\n",
    "num_steps_per_bar = constants.DEFAULT_STEPS_PER_BAR\n",
    "\n",
    "# We calculate how many seconds per bar for\n",
    "# the generation time\n",
    "seconds_per_bar = num_steps_per_bar * seconds_per_step\n",
    "\n",
    "print(\"Seconds per step: \" + str(seconds_per_step))\n",
    "print(\"Seconds per bar: \" + str(seconds_per_bar))"
   ]
  },
  {
   "cell_type": "markdown",
   "metadata": {
    "id": "2cPegkvZrrBy"
   },
   "source": [
    "4. We are now ready to initialize our primer sequence. We'll use a small jazz drum sequence of 1 bar for the primer (you can check it out in the book's source code in the Chapter 2 folder \"primers/Jazz_Drum_Basic_1_bar.mid\"), so we'll need a list of 16 step. We'll be explaining the primer definition in the next section. We can also initialize the start and end times for the generation of the next step:"
   ]
  },
  {
   "cell_type": "code",
   "execution_count": null,
   "metadata": {
    "id": "m1KazZGXrrBz",
    "outputId": "34c99492-e84e-4ae5-915e-785679ee1c0d"
   },
   "outputs": [
    {
     "name": "stdout",
     "output_type": "stream",
     "text": [
      "Primer start and end: [0, 2.0]\n",
      "Generation start and end: [2.0, 8.0]\n"
     ]
    }
   ],
   "source": [
    "# Define a 1 bar primer and converts it to a NoteSequence\n",
    "primer_drums = mm.DrumTrack(\n",
    "    [frozenset(pitches) for pitches in\n",
    "        [(38, 51),     (), (36,),    (),\n",
    "         (38, 44, 51), (), (36,),    (),\n",
    "         (),           (), (38,),    (),\n",
    "         (38, 44),     (), (36, 51), (),]])\n",
    "primer_sequence = primer_drums.to_sequence(qpm=qpm)\n",
    "\n",
    "# We store those time because the generation\n",
    "# will start after the end of the primer\n",
    "primer_start_time = 0\n",
    "primer_end_time = primer_start_time + seconds_per_bar\n",
    "\n",
    "# We calculate the generation start and end\n",
    "# for a duration of num_bars\n",
    "generation_start_time = primer_end_time\n",
    "generation_end_time = generation_start_time + (seconds_per_bar * num_bars)\n",
    "\n",
    "print(\"Primer start and end: [\" + str(primer_start_time) + \", \" + str(primer_end_time) + \"]\")\n",
    "print(\"Generation start and end: [\" + str(generation_start_time) + \", \" + str(generation_end_time) + \"]\")"
   ]
  },
  {
   "cell_type": "markdown",
   "metadata": {
    "id": "a3qI-HISrrB0"
   },
   "source": [
    "5. We can now configure our generator options with the start and end time. The generation options also takes the temperature:"
   ]
  },
  {
   "cell_type": "code",
   "execution_count": null,
   "metadata": {
    "id": "w1_QGTkprrB1",
    "outputId": "616bcde9-8ae6-4cf0-f22b-554d344af63f"
   },
   "outputs": [
    {
     "name": "stdout",
     "output_type": "stream",
     "text": [
      "Temperature: 1.1\n"
     ]
    },
    {
     "data": {
      "text/plain": [
       "start_time: 2.0\n",
       "end_time: 8.0"
      ]
     },
     "execution_count": 8,
     "metadata": {},
     "output_type": "execute_result"
    }
   ],
   "source": [
    "# The generator interface is common for all models\n",
    "generator_options = generator_pb2.GeneratorOptions()\n",
    "\n",
    "# Add a bit of temperature for more flavor\n",
    "temperature = 1.1\n",
    "print(\"Temperature: \" + str(temperature))\n",
    "generator_options.args['temperature'].float_value = temperature\n",
    "\n",
    "# Defines the generation section\n",
    "generator_options.generate_sections.add(\n",
    "    start_time=generation_start_time,\n",
    "    end_time=generation_end_time)"
   ]
  },
  {
   "cell_type": "markdown",
   "metadata": {
    "id": "5e_CmOt_rrB1"
   },
   "source": [
    "6. It is time to generate! You can now call the generate method on the generator with the primer sequence as input:"
   ]
  },
  {
   "cell_type": "code",
   "execution_count": null,
   "metadata": {
    "id": "kID1iHlErrB2"
   },
   "outputs": [],
   "source": [
    "# The resulting sequence is a NoteSequence instance\n",
    "sequence = generator.generate(primer_sequence, generator_options)"
   ]
  },
  {
   "cell_type": "markdown",
   "metadata": {
    "id": "BsifS-uqrrB2"
   },
   "source": [
    "7. There are many utilities to then convert a resulting NoteSequence to other formats such as PrettyMidi. We'll now convert the result, write the file and the plot on disk."
   ]
  },
  {
   "cell_type": "code",
   "execution_count": null,
   "metadata": {
    "id": "MCt6j3dArrB2",
    "outputId": "aa20aa9d-9620-4b41-c089-62307d8a0bf8"
   },
   "outputs": [
    {
     "name": "stdout",
     "output_type": "stream",
     "text": [
      "Generated midi file: C:/Users/Packt/hands-on-music-generation-with-magenta/Chapter02/output/out.mid\n",
      "Generated plot file: C:/Users/Packt/hands-on-music-generation-with-magenta/Chapter02/output/out.html\n"
     ]
    },
    {
     "data": {
      "text/html": [
       "<div style=\"display: table;\"><div style=\"display: table-row;\"><div style=\"display: table-cell;\"><b title=\"bokeh.models.layouts.Column\">Column</b>(</div><div style=\"display: table-cell;\">id&nbsp;=&nbsp;'1101', <span id=\"1158\" style=\"cursor: pointer;\">&hellip;)</span></div></div><div class=\"1157\" style=\"display: none;\"><div style=\"display: table-cell;\"></div><div style=\"display: table-cell;\">align&nbsp;=&nbsp;'start',</div></div><div class=\"1157\" style=\"display: none;\"><div style=\"display: table-cell;\"></div><div style=\"display: table-cell;\">aspect_ratio&nbsp;=&nbsp;None,</div></div><div class=\"1157\" style=\"display: none;\"><div style=\"display: table-cell;\"></div><div style=\"display: table-cell;\">background&nbsp;=&nbsp;None,</div></div><div class=\"1157\" style=\"display: none;\"><div style=\"display: table-cell;\"></div><div style=\"display: table-cell;\">children&nbsp;=&nbsp;[Figure(id='1001', ...)],</div></div><div class=\"1157\" style=\"display: none;\"><div style=\"display: table-cell;\"></div><div style=\"display: table-cell;\">css_classes&nbsp;=&nbsp;[],</div></div><div class=\"1157\" style=\"display: none;\"><div style=\"display: table-cell;\"></div><div style=\"display: table-cell;\">disabled&nbsp;=&nbsp;False,</div></div><div class=\"1157\" style=\"display: none;\"><div style=\"display: table-cell;\"></div><div style=\"display: table-cell;\">height&nbsp;=&nbsp;None,</div></div><div class=\"1157\" style=\"display: none;\"><div style=\"display: table-cell;\"></div><div style=\"display: table-cell;\">height_policy&nbsp;=&nbsp;'auto',</div></div><div class=\"1157\" style=\"display: none;\"><div style=\"display: table-cell;\"></div><div style=\"display: table-cell;\">js_event_callbacks&nbsp;=&nbsp;{},</div></div><div class=\"1157\" style=\"display: none;\"><div style=\"display: table-cell;\"></div><div style=\"display: table-cell;\">js_property_callbacks&nbsp;=&nbsp;{},</div></div><div class=\"1157\" style=\"display: none;\"><div style=\"display: table-cell;\"></div><div style=\"display: table-cell;\">margin&nbsp;=&nbsp;(0, 0, 0, 0),</div></div><div class=\"1157\" style=\"display: none;\"><div style=\"display: table-cell;\"></div><div style=\"display: table-cell;\">max_height&nbsp;=&nbsp;None,</div></div><div class=\"1157\" style=\"display: none;\"><div style=\"display: table-cell;\"></div><div style=\"display: table-cell;\">max_width&nbsp;=&nbsp;None,</div></div><div class=\"1157\" style=\"display: none;\"><div style=\"display: table-cell;\"></div><div style=\"display: table-cell;\">min_height&nbsp;=&nbsp;None,</div></div><div class=\"1157\" style=\"display: none;\"><div style=\"display: table-cell;\"></div><div style=\"display: table-cell;\">min_width&nbsp;=&nbsp;None,</div></div><div class=\"1157\" style=\"display: none;\"><div style=\"display: table-cell;\"></div><div style=\"display: table-cell;\">name&nbsp;=&nbsp;None,</div></div><div class=\"1157\" style=\"display: none;\"><div style=\"display: table-cell;\"></div><div style=\"display: table-cell;\">rows&nbsp;=&nbsp;'auto',</div></div><div class=\"1157\" style=\"display: none;\"><div style=\"display: table-cell;\"></div><div style=\"display: table-cell;\">sizing_mode&nbsp;=&nbsp;None,</div></div><div class=\"1157\" style=\"display: none;\"><div style=\"display: table-cell;\"></div><div style=\"display: table-cell;\">spacing&nbsp;=&nbsp;0,</div></div><div class=\"1157\" style=\"display: none;\"><div style=\"display: table-cell;\"></div><div style=\"display: table-cell;\">subscribed_events&nbsp;=&nbsp;[],</div></div><div class=\"1157\" style=\"display: none;\"><div style=\"display: table-cell;\"></div><div style=\"display: table-cell;\">tags&nbsp;=&nbsp;[],</div></div><div class=\"1157\" style=\"display: none;\"><div style=\"display: table-cell;\"></div><div style=\"display: table-cell;\">visible&nbsp;=&nbsp;True,</div></div><div class=\"1157\" style=\"display: none;\"><div style=\"display: table-cell;\"></div><div style=\"display: table-cell;\">width&nbsp;=&nbsp;None,</div></div><div class=\"1157\" style=\"display: none;\"><div style=\"display: table-cell;\"></div><div style=\"display: table-cell;\">width_policy&nbsp;=&nbsp;'auto')</div></div></div>\n",
       "<script>\n",
       "(function() {\n",
       "  var expanded = false;\n",
       "  var ellipsis = document.getElementById(\"1158\");\n",
       "  ellipsis.addEventListener(\"click\", function() {\n",
       "    var rows = document.getElementsByClassName(\"1157\");\n",
       "    for (var i = 0; i < rows.length; i++) {\n",
       "      var el = rows[i];\n",
       "      el.style.display = expanded ? \"none\" : \"table-row\";\n",
       "    }\n",
       "    ellipsis.innerHTML = expanded ? \"&hellip;)\" : \"&lsaquo;&lsaquo;&lsaquo;\";\n",
       "    expanded = !expanded;\n",
       "  });\n",
       "})();\n",
       "</script>\n"
      ],
      "text/plain": [
       "Column(id='1101', ...)"
      ]
     },
     "execution_count": 11,
     "metadata": {},
     "output_type": "execute_result"
    }
   ],
   "source": [
    "from visual_midi import Plotter\n",
    "\n",
    "# Write the resulting midi file to the output directory\n",
    "midi_file = os.path.join(\"output\", \"out.mid\")\n",
    "mm.midi_io.note_sequence_to_midi_file(sequence, midi_file)\n",
    "print(\"Generated midi file: \" + str(os.path.abspath(midi_file)))\n",
    "\n",
    "# Write the resulting plot file to the output directory\n",
    "plot_file = os.path.join(\"output\", \"out.html\")\n",
    "print(\"Generated plot file: \" + str(os.path.abspath(plot_file)))\n",
    "pretty_midi = mm.midi_io.note_sequence_to_pretty_midi(sequence)\n",
    "plotter = Plotter()\n",
    "plotter.show(pretty_midi, plot_file)"
   ]
  }
 ],
 "metadata": {
  "colab": {
   "name": "notebook.ipynb",
   "provenance": []
  },
  "kernelspec": {
   "display_name": "sunghyu",
   "language": "python",
   "name": "sunghyu"
  },
  "language_info": {
   "codemirror_mode": {
    "name": "ipython",
    "version": 3
   },
   "file_extension": ".py",
   "mimetype": "text/x-python",
   "name": "python",
   "nbconvert_exporter": "python",
   "pygments_lexer": "ipython3",
   "version": "3.8.10"
  }
 },
 "nbformat": 4,
 "nbformat_minor": 1
}
